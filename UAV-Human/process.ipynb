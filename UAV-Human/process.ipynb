{
 "cells": [
  {
   "cell_type": "code",
   "execution_count": 1,
   "id": "b6859e8a",
   "metadata": {},
   "outputs": [],
   "source": [
    "import re"
   ]
  },
  {
   "cell_type": "code",
   "execution_count": 6,
   "id": "2f669eed",
   "metadata": {},
   "outputs": [],
   "source": [
    "FILENAME_REGEX = r'P\\d+S\\d+G\\d+B\\d+H\\d+UC\\d+LC\\d+A(\\d+)R\\d+_\\d+'\n",
    "pattern = re.compile(FILENAME_REGEX)"
   ]
  },
  {
   "cell_type": "code",
   "execution_count": 7,
   "id": "e71f53da",
   "metadata": {},
   "outputs": [],
   "source": [
    "label = int(pattern.match('P000S00G10B10H10UC022000LC021000A000R0_08241716.txt').groups()[0])"
   ]
  },
  {
   "cell_type": "code",
   "execution_count": 8,
   "id": "bc04ea39",
   "metadata": {},
   "outputs": [
    {
     "data": {
      "text/plain": [
       "0"
      ]
     },
     "execution_count": 8,
     "metadata": {},
     "output_type": "execute_result"
    }
   ],
   "source": [
    "label"
   ]
  },
  {
   "cell_type": "code",
   "execution_count": null,
   "id": "653c4822",
   "metadata": {},
   "outputs": [],
   "source": []
  }
 ],
 "metadata": {
  "kernelspec": {
   "display_name": ".venv (3.11.2)",
   "language": "python",
   "name": "python3"
  },
  "language_info": {
   "codemirror_mode": {
    "name": "ipython",
    "version": 3
   },
   "file_extension": ".py",
   "mimetype": "text/x-python",
   "name": "python",
   "nbconvert_exporter": "python",
   "pygments_lexer": "ipython3",
   "version": "3.11.2"
  }
 },
 "nbformat": 4,
 "nbformat_minor": 5
}
